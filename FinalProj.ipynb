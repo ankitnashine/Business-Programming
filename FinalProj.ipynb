{
 "cells": [
  {
   "cell_type": "code",
   "execution_count": 1,
   "id": "f1cb62ef",
   "metadata": {},
   "outputs": [],
   "source": [
    "import selenium\n",
    "from selenium import webdriver\n",
    "from selenium.webdriver.common.keys import Keys\n",
    "import time\n",
    "import re"
   ]
  },
  {
   "cell_type": "code",
   "execution_count": 3,
   "id": "6e395c22",
   "metadata": {},
   "outputs": [
    {
     "name": "stderr",
     "output_type": "stream",
     "text": [
      "/var/folders/2h/3psf25rs0xjghdws46p2_xyw0000gn/T/ipykernel_95880/2501448733.py:2: DeprecationWarning: executable_path has been deprecated, please pass in a Service object\n",
      "  driver = webdriver.Chrome(PATH)\n"
     ]
    },
    {
     "ename": "SessionNotCreatedException",
     "evalue": "Message: session not created: This version of ChromeDriver only supports Chrome version 96\nCurrent browser version is 98.0.4758.109 with binary path /Applications/Google Chrome.app/Contents/MacOS/Google Chrome\nStacktrace:\n0   chromedriver                        0x000000010cce6269 __gxx_personality_v0 + 582729\n1   chromedriver                        0x000000010cc71c33 __gxx_personality_v0 + 106003\n2   chromedriver                        0x000000010c82ee28 chromedriver + 171560\n3   chromedriver                        0x000000010c855433 chromedriver + 328755\n4   chromedriver                        0x000000010c850ff6 chromedriver + 311286\n5   chromedriver                        0x000000010c84d6c6 chromedriver + 296646\n6   chromedriver                        0x000000010c8879c3 chromedriver + 534979\n7   chromedriver                        0x000000010c881723 chromedriver + 509731\n8   chromedriver                        0x000000010c85775e chromedriver + 337758\n9   chromedriver                        0x000000010c858a95 chromedriver + 342677\n10  chromedriver                        0x000000010cca28ab __gxx_personality_v0 + 305803\n11  chromedriver                        0x000000010ccb9863 __gxx_personality_v0 + 399939\n12  chromedriver                        0x000000010ccbec7f __gxx_personality_v0 + 421471\n13  chromedriver                        0x000000010ccbabba __gxx_personality_v0 + 404890\n14  chromedriver                        0x000000010cc96e51 __gxx_personality_v0 + 258097\n15  chromedriver                        0x000000010ccd6158 __gxx_personality_v0 + 516920\n16  chromedriver                        0x000000010ccd62e1 __gxx_personality_v0 + 517313\n17  chromedriver                        0x000000010cced6f8 __gxx_personality_v0 + 612568\n18  libsystem_pthread.dylib             0x00007ff8052234f4 _pthread_start + 125\n19  libsystem_pthread.dylib             0x00007ff80521f00f thread_start + 15\n",
     "output_type": "error",
     "traceback": [
      "\u001b[0;31m---------------------------------------------------------------------------\u001b[0m",
      "\u001b[0;31mSessionNotCreatedException\u001b[0m                Traceback (most recent call last)",
      "\u001b[0;32m/var/folders/2h/3psf25rs0xjghdws46p2_xyw0000gn/T/ipykernel_95880/2501448733.py\u001b[0m in \u001b[0;36m<module>\u001b[0;34m\u001b[0m\n\u001b[1;32m      1\u001b[0m \u001b[0mPATH\u001b[0m \u001b[0;34m=\u001b[0m \u001b[0;34m\"/Users/ankitnashine/Desktop/chromedriver\"\u001b[0m\u001b[0;34m\u001b[0m\u001b[0;34m\u001b[0m\u001b[0m\n\u001b[0;32m----> 2\u001b[0;31m \u001b[0mdriver\u001b[0m \u001b[0;34m=\u001b[0m \u001b[0mwebdriver\u001b[0m\u001b[0;34m.\u001b[0m\u001b[0mChrome\u001b[0m\u001b[0;34m(\u001b[0m\u001b[0mPATH\u001b[0m\u001b[0;34m)\u001b[0m\u001b[0;34m\u001b[0m\u001b[0;34m\u001b[0m\u001b[0m\n\u001b[0m\u001b[1;32m      3\u001b[0m \u001b[0mURL\u001b[0m \u001b[0;34m=\u001b[0m \u001b[0;34m\"https://www.carvana.com/cars\"\u001b[0m\u001b[0;34m\u001b[0m\u001b[0;34m\u001b[0m\u001b[0m\n",
      "\u001b[0;32m/usr/local/lib/python3.9/site-packages/selenium/webdriver/chrome/webdriver.py\u001b[0m in \u001b[0;36m__init__\u001b[0;34m(self, executable_path, port, options, service_args, desired_capabilities, service_log_path, chrome_options, service, keep_alive)\u001b[0m\n\u001b[1;32m     67\u001b[0m             \u001b[0mservice\u001b[0m \u001b[0;34m=\u001b[0m \u001b[0mService\u001b[0m\u001b[0;34m(\u001b[0m\u001b[0mexecutable_path\u001b[0m\u001b[0;34m,\u001b[0m \u001b[0mport\u001b[0m\u001b[0;34m,\u001b[0m \u001b[0mservice_args\u001b[0m\u001b[0;34m,\u001b[0m \u001b[0mservice_log_path\u001b[0m\u001b[0;34m)\u001b[0m\u001b[0;34m\u001b[0m\u001b[0;34m\u001b[0m\u001b[0m\n\u001b[1;32m     68\u001b[0m \u001b[0;34m\u001b[0m\u001b[0m\n\u001b[0;32m---> 69\u001b[0;31m         super(WebDriver, self).__init__(DesiredCapabilities.CHROME['browserName'], \"goog\",\n\u001b[0m\u001b[1;32m     70\u001b[0m                                         \u001b[0mport\u001b[0m\u001b[0;34m,\u001b[0m \u001b[0moptions\u001b[0m\u001b[0;34m,\u001b[0m\u001b[0;34m\u001b[0m\u001b[0;34m\u001b[0m\u001b[0m\n\u001b[1;32m     71\u001b[0m                                         \u001b[0mservice_args\u001b[0m\u001b[0;34m,\u001b[0m \u001b[0mdesired_capabilities\u001b[0m\u001b[0;34m,\u001b[0m\u001b[0;34m\u001b[0m\u001b[0;34m\u001b[0m\u001b[0m\n",
      "\u001b[0;32m/usr/local/lib/python3.9/site-packages/selenium/webdriver/chromium/webdriver.py\u001b[0m in \u001b[0;36m__init__\u001b[0;34m(self, browser_name, vendor_prefix, port, options, service_args, desired_capabilities, service_log_path, service, keep_alive)\u001b[0m\n\u001b[1;32m     91\u001b[0m \u001b[0;34m\u001b[0m\u001b[0m\n\u001b[1;32m     92\u001b[0m         \u001b[0;32mtry\u001b[0m\u001b[0;34m:\u001b[0m\u001b[0;34m\u001b[0m\u001b[0;34m\u001b[0m\u001b[0m\n\u001b[0;32m---> 93\u001b[0;31m             RemoteWebDriver.__init__(\n\u001b[0m\u001b[1;32m     94\u001b[0m                 \u001b[0mself\u001b[0m\u001b[0;34m,\u001b[0m\u001b[0;34m\u001b[0m\u001b[0;34m\u001b[0m\u001b[0m\n\u001b[1;32m     95\u001b[0m                 command_executor=ChromiumRemoteConnection(\n",
      "\u001b[0;32m/usr/local/lib/python3.9/site-packages/selenium/webdriver/remote/webdriver.py\u001b[0m in \u001b[0;36m__init__\u001b[0;34m(self, command_executor, desired_capabilities, browser_profile, proxy, keep_alive, file_detector, options)\u001b[0m\n\u001b[1;32m    264\u001b[0m         \u001b[0mself\u001b[0m\u001b[0;34m.\u001b[0m\u001b[0mfile_detector\u001b[0m \u001b[0;34m=\u001b[0m \u001b[0mfile_detector\u001b[0m \u001b[0;32mor\u001b[0m \u001b[0mLocalFileDetector\u001b[0m\u001b[0;34m(\u001b[0m\u001b[0;34m)\u001b[0m\u001b[0;34m\u001b[0m\u001b[0;34m\u001b[0m\u001b[0m\n\u001b[1;32m    265\u001b[0m         \u001b[0mself\u001b[0m\u001b[0;34m.\u001b[0m\u001b[0mstart_client\u001b[0m\u001b[0;34m(\u001b[0m\u001b[0;34m)\u001b[0m\u001b[0;34m\u001b[0m\u001b[0;34m\u001b[0m\u001b[0m\n\u001b[0;32m--> 266\u001b[0;31m         \u001b[0mself\u001b[0m\u001b[0;34m.\u001b[0m\u001b[0mstart_session\u001b[0m\u001b[0;34m(\u001b[0m\u001b[0mcapabilities\u001b[0m\u001b[0;34m,\u001b[0m \u001b[0mbrowser_profile\u001b[0m\u001b[0;34m)\u001b[0m\u001b[0;34m\u001b[0m\u001b[0;34m\u001b[0m\u001b[0m\n\u001b[0m\u001b[1;32m    267\u001b[0m \u001b[0;34m\u001b[0m\u001b[0m\n\u001b[1;32m    268\u001b[0m     \u001b[0;32mdef\u001b[0m \u001b[0m__repr__\u001b[0m\u001b[0;34m(\u001b[0m\u001b[0mself\u001b[0m\u001b[0;34m)\u001b[0m\u001b[0;34m:\u001b[0m\u001b[0;34m\u001b[0m\u001b[0;34m\u001b[0m\u001b[0m\n",
      "\u001b[0;32m/usr/local/lib/python3.9/site-packages/selenium/webdriver/remote/webdriver.py\u001b[0m in \u001b[0;36mstart_session\u001b[0;34m(self, capabilities, browser_profile)\u001b[0m\n\u001b[1;32m    355\u001b[0m         parameters = {\"capabilities\": w3c_caps,\n\u001b[1;32m    356\u001b[0m                       \"desiredCapabilities\": capabilities}\n\u001b[0;32m--> 357\u001b[0;31m         \u001b[0mresponse\u001b[0m \u001b[0;34m=\u001b[0m \u001b[0mself\u001b[0m\u001b[0;34m.\u001b[0m\u001b[0mexecute\u001b[0m\u001b[0;34m(\u001b[0m\u001b[0mCommand\u001b[0m\u001b[0;34m.\u001b[0m\u001b[0mNEW_SESSION\u001b[0m\u001b[0;34m,\u001b[0m \u001b[0mparameters\u001b[0m\u001b[0;34m)\u001b[0m\u001b[0;34m\u001b[0m\u001b[0;34m\u001b[0m\u001b[0m\n\u001b[0m\u001b[1;32m    358\u001b[0m         \u001b[0;32mif\u001b[0m \u001b[0;34m'sessionId'\u001b[0m \u001b[0;32mnot\u001b[0m \u001b[0;32min\u001b[0m \u001b[0mresponse\u001b[0m\u001b[0;34m:\u001b[0m\u001b[0;34m\u001b[0m\u001b[0;34m\u001b[0m\u001b[0m\n\u001b[1;32m    359\u001b[0m             \u001b[0mresponse\u001b[0m \u001b[0;34m=\u001b[0m \u001b[0mresponse\u001b[0m\u001b[0;34m[\u001b[0m\u001b[0;34m'value'\u001b[0m\u001b[0;34m]\u001b[0m\u001b[0;34m\u001b[0m\u001b[0;34m\u001b[0m\u001b[0m\n",
      "\u001b[0;32m/usr/local/lib/python3.9/site-packages/selenium/webdriver/remote/webdriver.py\u001b[0m in \u001b[0;36mexecute\u001b[0;34m(self, driver_command, params)\u001b[0m\n\u001b[1;32m    416\u001b[0m         \u001b[0mresponse\u001b[0m \u001b[0;34m=\u001b[0m \u001b[0mself\u001b[0m\u001b[0;34m.\u001b[0m\u001b[0mcommand_executor\u001b[0m\u001b[0;34m.\u001b[0m\u001b[0mexecute\u001b[0m\u001b[0;34m(\u001b[0m\u001b[0mdriver_command\u001b[0m\u001b[0;34m,\u001b[0m \u001b[0mparams\u001b[0m\u001b[0;34m)\u001b[0m\u001b[0;34m\u001b[0m\u001b[0;34m\u001b[0m\u001b[0m\n\u001b[1;32m    417\u001b[0m         \u001b[0;32mif\u001b[0m \u001b[0mresponse\u001b[0m\u001b[0;34m:\u001b[0m\u001b[0;34m\u001b[0m\u001b[0;34m\u001b[0m\u001b[0m\n\u001b[0;32m--> 418\u001b[0;31m             \u001b[0mself\u001b[0m\u001b[0;34m.\u001b[0m\u001b[0merror_handler\u001b[0m\u001b[0;34m.\u001b[0m\u001b[0mcheck_response\u001b[0m\u001b[0;34m(\u001b[0m\u001b[0mresponse\u001b[0m\u001b[0;34m)\u001b[0m\u001b[0;34m\u001b[0m\u001b[0;34m\u001b[0m\u001b[0m\n\u001b[0m\u001b[1;32m    419\u001b[0m             response['value'] = self._unwrap_value(\n\u001b[1;32m    420\u001b[0m                 response.get('value', None))\n",
      "\u001b[0;32m/usr/local/lib/python3.9/site-packages/selenium/webdriver/remote/errorhandler.py\u001b[0m in \u001b[0;36mcheck_response\u001b[0;34m(self, response)\u001b[0m\n\u001b[1;32m    241\u001b[0m                 \u001b[0malert_text\u001b[0m \u001b[0;34m=\u001b[0m \u001b[0mvalue\u001b[0m\u001b[0;34m[\u001b[0m\u001b[0;34m'alert'\u001b[0m\u001b[0;34m]\u001b[0m\u001b[0;34m.\u001b[0m\u001b[0mget\u001b[0m\u001b[0;34m(\u001b[0m\u001b[0;34m'text'\u001b[0m\u001b[0;34m)\u001b[0m\u001b[0;34m\u001b[0m\u001b[0;34m\u001b[0m\u001b[0m\n\u001b[1;32m    242\u001b[0m             \u001b[0;32mraise\u001b[0m \u001b[0mexception_class\u001b[0m\u001b[0;34m(\u001b[0m\u001b[0mmessage\u001b[0m\u001b[0;34m,\u001b[0m \u001b[0mscreen\u001b[0m\u001b[0;34m,\u001b[0m \u001b[0mstacktrace\u001b[0m\u001b[0;34m,\u001b[0m \u001b[0malert_text\u001b[0m\u001b[0;34m)\u001b[0m  \u001b[0;31m# type: ignore[call-arg]  # mypy is not smart enough here\u001b[0m\u001b[0;34m\u001b[0m\u001b[0;34m\u001b[0m\u001b[0m\n\u001b[0;32m--> 243\u001b[0;31m         \u001b[0;32mraise\u001b[0m \u001b[0mexception_class\u001b[0m\u001b[0;34m(\u001b[0m\u001b[0mmessage\u001b[0m\u001b[0;34m,\u001b[0m \u001b[0mscreen\u001b[0m\u001b[0;34m,\u001b[0m \u001b[0mstacktrace\u001b[0m\u001b[0;34m)\u001b[0m\u001b[0;34m\u001b[0m\u001b[0;34m\u001b[0m\u001b[0m\n\u001b[0m\u001b[1;32m    244\u001b[0m \u001b[0;34m\u001b[0m\u001b[0m\n\u001b[1;32m    245\u001b[0m     \u001b[0;32mdef\u001b[0m \u001b[0m_value_or_default\u001b[0m\u001b[0;34m(\u001b[0m\u001b[0mself\u001b[0m\u001b[0;34m,\u001b[0m \u001b[0mobj\u001b[0m\u001b[0;34m:\u001b[0m \u001b[0mMapping\u001b[0m\u001b[0;34m[\u001b[0m\u001b[0m_KT\u001b[0m\u001b[0;34m,\u001b[0m \u001b[0m_VT\u001b[0m\u001b[0;34m]\u001b[0m\u001b[0;34m,\u001b[0m \u001b[0mkey\u001b[0m\u001b[0;34m:\u001b[0m \u001b[0m_KT\u001b[0m\u001b[0;34m,\u001b[0m \u001b[0mdefault\u001b[0m\u001b[0;34m:\u001b[0m \u001b[0m_VT\u001b[0m\u001b[0;34m)\u001b[0m \u001b[0;34m->\u001b[0m \u001b[0m_VT\u001b[0m\u001b[0;34m:\u001b[0m\u001b[0;34m\u001b[0m\u001b[0;34m\u001b[0m\u001b[0m\n",
      "\u001b[0;31mSessionNotCreatedException\u001b[0m: Message: session not created: This version of ChromeDriver only supports Chrome version 96\nCurrent browser version is 98.0.4758.109 with binary path /Applications/Google Chrome.app/Contents/MacOS/Google Chrome\nStacktrace:\n0   chromedriver                        0x000000010cce6269 __gxx_personality_v0 + 582729\n1   chromedriver                        0x000000010cc71c33 __gxx_personality_v0 + 106003\n2   chromedriver                        0x000000010c82ee28 chromedriver + 171560\n3   chromedriver                        0x000000010c855433 chromedriver + 328755\n4   chromedriver                        0x000000010c850ff6 chromedriver + 311286\n5   chromedriver                        0x000000010c84d6c6 chromedriver + 296646\n6   chromedriver                        0x000000010c8879c3 chromedriver + 534979\n7   chromedriver                        0x000000010c881723 chromedriver + 509731\n8   chromedriver                        0x000000010c85775e chromedriver + 337758\n9   chromedriver                        0x000000010c858a95 chromedriver + 342677\n10  chromedriver                        0x000000010cca28ab __gxx_personality_v0 + 305803\n11  chromedriver                        0x000000010ccb9863 __gxx_personality_v0 + 399939\n12  chromedriver                        0x000000010ccbec7f __gxx_personality_v0 + 421471\n13  chromedriver                        0x000000010ccbabba __gxx_personality_v0 + 404890\n14  chromedriver                        0x000000010cc96e51 __gxx_personality_v0 + 258097\n15  chromedriver                        0x000000010ccd6158 __gxx_personality_v0 + 516920\n16  chromedriver                        0x000000010ccd62e1 __gxx_personality_v0 + 517313\n17  chromedriver                        0x000000010cced6f8 __gxx_personality_v0 + 612568\n18  libsystem_pthread.dylib             0x00007ff8052234f4 _pthread_start + 125\n19  libsystem_pthread.dylib             0x00007ff80521f00f thread_start + 15\n"
     ]
    }
   ],
   "source": [
    "PATH = \"/Users/ankitnashine/Desktop/chromedriver\"\n",
    "driver = webdriver.Chrome(PATH)\n",
    "URL = \"https://www.carvana.com/cars\""
   ]
  },
  {
   "cell_type": "code",
   "execution_count": 175,
   "id": "6dfd6049",
   "metadata": {},
   "outputs": [],
   "source": [
    "yourzip = \"02446\"\n",
    "yourcar = \"civic\""
   ]
  },
  {
   "cell_type": "code",
   "execution_count": 176,
   "id": "c7ea16aa",
   "metadata": {},
   "outputs": [
    {
     "name": "stderr",
     "output_type": "stream",
     "text": [
      "/var/folders/2h/3psf25rs0xjghdws46p2_xyw0000gn/T/ipykernel_65909/1536511648.py:2: DeprecationWarning: find_element_by_* commands are deprecated. Please use find_element() instead\n",
      "  search = driver.find_element_by_class_name(\"LocationButton__DownArrow-tbps9y-1\")\n",
      "/var/folders/2h/3psf25rs0xjghdws46p2_xyw0000gn/T/ipykernel_65909/1536511648.py:5: DeprecationWarning: find_element_by_* commands are deprecated. Please use find_element() instead\n",
      "  zipcode = driver.find_element_by_name(\"ZIP CODE\")\n",
      "/var/folders/2h/3psf25rs0xjghdws46p2_xyw0000gn/T/ipykernel_65909/1536511648.py:10: DeprecationWarning: find_element_by_* commands are deprecated. Please use find_element() instead\n",
      "  searchcar = driver.find_element_by_class_name(\"react-autosuggest__input\")\n"
     ]
    }
   ],
   "source": [
    "driver.get(URL)\n",
    "search = driver.find_element_by_class_name(\"LocationButton__DownArrow-tbps9y-1\")\n",
    "search.click()\n",
    "time.sleep(7)\n",
    "zipcode = driver.find_element_by_name(\"ZIP CODE\")\n",
    "zipcode.send_keys(yourzip)\n",
    "zipcode.send_keys(Keys.RETURN)\n",
    "\n",
    "time.sleep(5)\n",
    "searchcar = driver.find_element_by_class_name(\"react-autosuggest__input\")\n",
    "searchcar.send_keys(yourcar)\n",
    "searchcar.send_keys(Keys.RETURN)"
   ]
  },
  {
   "cell_type": "code",
   "execution_count": 177,
   "id": "e95138fd",
   "metadata": {},
   "outputs": [],
   "source": [
    "currurl = driver.current_url\n",
    "pg1 = \"&page=$NUM$\""
   ]
  },
  {
   "cell_type": "code",
   "execution_count": 178,
   "id": "c9b31ab5",
   "metadata": {},
   "outputs": [
    {
     "name": "stdout",
     "output_type": "stream",
     "text": [
      "https://www.carvana.com/cars/honda-civic/filters/?cvnaid=eyJtb2RlbElkcyI6WzU2LDUxNF19&email-capture=&page=$NUM$\n"
     ]
    }
   ],
   "source": [
    "correcturl = currurl + pg1\n",
    "print(correcturl)"
   ]
  },
  {
   "cell_type": "code",
   "execution_count": 179,
   "id": "4be8602e",
   "metadata": {},
   "outputs": [],
   "source": [
    "page_content = driver.page_source"
   ]
  },
  {
   "cell_type": "code",
   "execution_count": 180,
   "id": "9792dda9",
   "metadata": {},
   "outputs": [
    {
     "name": "stdout",
     "output_type": "stream",
     "text": [
      "29\n"
     ]
    }
   ],
   "source": [
    "total_pages = re.compile(r'<span data-cv-test=\"Cv.Search.Pagination.CurrentPageDisplay\" data-qa=\"pagination-text\".*?Page 1 of (.*?)</span>',re.S|re.I).findall(page_content)\n",
    "#print(total_pages)\n",
    "for x in total_pages:\n",
    "    num_of_pages = int(x)\n",
    "print(num_of_pages)"
   ]
  },
  {
   "cell_type": "code",
   "execution_count": null,
   "id": "b4eca981",
   "metadata": {},
   "outputs": [],
   "source": [
    "for i in range(15)"
   ]
  },
  {
   "cell_type": "code",
   "execution_count": 181,
   "id": "0d7c5f88",
   "metadata": {},
   "outputs": [
    {
     "name": "stdout",
     "output_type": "stream",
     "text": [
      "Collecting car data from: https://www.carvana.com/cars/honda-civic/filters/?cvnaid=eyJtb2RlbElkcyI6WzU2LDUxNF19&email-capture=&page=1\n",
      "Collecting car data from: https://www.carvana.com/cars/honda-civic/filters/?cvnaid=eyJtb2RlbElkcyI6WzU2LDUxNF19&email-capture=&page=2\n",
      "Collecting car data from: https://www.carvana.com/cars/honda-civic/filters/?cvnaid=eyJtb2RlbElkcyI6WzU2LDUxNF19&email-capture=&page=3\n",
      "Collecting car data from: https://www.carvana.com/cars/honda-civic/filters/?cvnaid=eyJtb2RlbElkcyI6WzU2LDUxNF19&email-capture=&page=4\n",
      "Collecting car data from: https://www.carvana.com/cars/honda-civic/filters/?cvnaid=eyJtb2RlbElkcyI6WzU2LDUxNF19&email-capture=&page=5\n",
      "Collecting car data from: https://www.carvana.com/cars/honda-civic/filters/?cvnaid=eyJtb2RlbElkcyI6WzU2LDUxNF19&email-capture=&page=6\n",
      "Collecting car data from: https://www.carvana.com/cars/honda-civic/filters/?cvnaid=eyJtb2RlbElkcyI6WzU2LDUxNF19&email-capture=&page=7\n",
      "Collecting car data from: https://www.carvana.com/cars/honda-civic/filters/?cvnaid=eyJtb2RlbElkcyI6WzU2LDUxNF19&email-capture=&page=8\n",
      "Collecting car data from: https://www.carvana.com/cars/honda-civic/filters/?cvnaid=eyJtb2RlbElkcyI6WzU2LDUxNF19&email-capture=&page=9\n",
      "Collecting car data from: https://www.carvana.com/cars/honda-civic/filters/?cvnaid=eyJtb2RlbElkcyI6WzU2LDUxNF19&email-capture=&page=10\n",
      "Collecting car data from: https://www.carvana.com/cars/honda-civic/filters/?cvnaid=eyJtb2RlbElkcyI6WzU2LDUxNF19&email-capture=&page=11\n",
      "Collecting car data from: https://www.carvana.com/cars/honda-civic/filters/?cvnaid=eyJtb2RlbElkcyI6WzU2LDUxNF19&email-capture=&page=12\n",
      "Collecting car data from: https://www.carvana.com/cars/honda-civic/filters/?cvnaid=eyJtb2RlbElkcyI6WzU2LDUxNF19&email-capture=&page=13\n",
      "Collecting car data from: https://www.carvana.com/cars/honda-civic/filters/?cvnaid=eyJtb2RlbElkcyI6WzU2LDUxNF19&email-capture=&page=14\n",
      "Collecting car data from: https://www.carvana.com/cars/honda-civic/filters/?cvnaid=eyJtb2RlbElkcyI6WzU2LDUxNF19&email-capture=&page=15\n",
      "Collecting car data from: https://www.carvana.com/cars/honda-civic/filters/?cvnaid=eyJtb2RlbElkcyI6WzU2LDUxNF19&email-capture=&page=16\n",
      "Collecting car data from: https://www.carvana.com/cars/honda-civic/filters/?cvnaid=eyJtb2RlbElkcyI6WzU2LDUxNF19&email-capture=&page=17\n",
      "Collecting car data from: https://www.carvana.com/cars/honda-civic/filters/?cvnaid=eyJtb2RlbElkcyI6WzU2LDUxNF19&email-capture=&page=18\n",
      "Collecting car data from: https://www.carvana.com/cars/honda-civic/filters/?cvnaid=eyJtb2RlbElkcyI6WzU2LDUxNF19&email-capture=&page=19\n",
      "Collecting car data from: https://www.carvana.com/cars/honda-civic/filters/?cvnaid=eyJtb2RlbElkcyI6WzU2LDUxNF19&email-capture=&page=20\n",
      "Collecting car data from: https://www.carvana.com/cars/honda-civic/filters/?cvnaid=eyJtb2RlbElkcyI6WzU2LDUxNF19&email-capture=&page=21\n",
      "Collecting car data from: https://www.carvana.com/cars/honda-civic/filters/?cvnaid=eyJtb2RlbElkcyI6WzU2LDUxNF19&email-capture=&page=22\n",
      "Collecting car data from: https://www.carvana.com/cars/honda-civic/filters/?cvnaid=eyJtb2RlbElkcyI6WzU2LDUxNF19&email-capture=&page=23\n",
      "Collecting car data from: https://www.carvana.com/cars/honda-civic/filters/?cvnaid=eyJtb2RlbElkcyI6WzU2LDUxNF19&email-capture=&page=24\n",
      "Collecting car data from: https://www.carvana.com/cars/honda-civic/filters/?cvnaid=eyJtb2RlbElkcyI6WzU2LDUxNF19&email-capture=&page=25\n",
      "Collecting car data from: https://www.carvana.com/cars/honda-civic/filters/?cvnaid=eyJtb2RlbElkcyI6WzU2LDUxNF19&email-capture=&page=26\n",
      "Collecting car data from: https://www.carvana.com/cars/honda-civic/filters/?cvnaid=eyJtb2RlbElkcyI6WzU2LDUxNF19&email-capture=&page=27\n",
      "Collecting car data from: https://www.carvana.com/cars/honda-civic/filters/?cvnaid=eyJtb2RlbElkcyI6WzU2LDUxNF19&email-capture=&page=28\n",
      "Collecting car data from: https://www.carvana.com/cars/honda-civic/filters/?cvnaid=eyJtb2RlbElkcyI6WzU2LDUxNF19&email-capture=&page=29\n"
     ]
    }
   ],
   "source": [
    "for i in range(num_of_pages):\n",
    "    page_URL=correcturl.replace(\"$NUM$\",str(i+1))\n",
    "    print(\"Collecting car data from Page \"+ i)\n",
    "    driver.get(page_URL)\n",
    "    time.sleep(10)\n",
    "    page_content=driver.page_source"
   ]
  },
  {
   "cell_type": "code",
   "execution_count": null,
   "id": "9a4a462d",
   "metadata": {},
   "outputs": [],
   "source": []
  }
 ],
 "metadata": {
  "kernelspec": {
   "display_name": "Python 3 (ipykernel)",
   "language": "python",
   "name": "python3"
  },
  "language_info": {
   "codemirror_mode": {
    "name": "ipython",
    "version": 3
   },
   "file_extension": ".py",
   "mimetype": "text/x-python",
   "name": "python",
   "nbconvert_exporter": "python",
   "pygments_lexer": "ipython3",
   "version": "3.9.9"
  }
 },
 "nbformat": 4,
 "nbformat_minor": 5
}
